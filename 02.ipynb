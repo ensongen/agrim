{
 "cells": [
  {
   "cell_type": "markdown",
   "metadata": {},
   "source": [
    "705. 设计哈希集合"
   ]
  },
  {
   "cell_type": "code",
   "execution_count": null,
   "metadata": {},
   "outputs": [],
   "source": [
    "# 1.超大数组\n",
    "class MyHashSet:\n",
    "\n",
    "    def __init__(self):\n",
    "        # set只需要关注一个 key 是否存在\n",
    "        self.set = [False] * 1000001\n",
    "\n",
    "    def add(self, key):\n",
    "        self.set[key] = True\n",
    "\n",
    "    def remove(self, key):\n",
    "        self.set[key] = False\n",
    "\n",
    "    def contains(self, key):\n",
    "        return self.set[key]\n",
    "# 时间复杂度：O(1)\n",
    "# 空间复杂度：O(数据范围)"
   ]
  },
  {
   "cell_type": "code",
   "execution_count": null,
   "metadata": {},
   "outputs": [],
   "source": [
    "# 2.拉链法\n",
    "class MyHashSet:\n",
    "    # 二维数组\n",
    "    def __init__(self):\n",
    "        # 定长的拉链数组 第一个纬度分为1000个key\n",
    "        self.buckets = 1000\n",
    "        # 每个key可以存放的数目\n",
    "        self.itemsPerBucket = 1001\n",
    "        self.table = [[] for _ in range(self.buckets)]\n",
    "\n",
    "    def hash(self, key):\n",
    "        # 取余数获取key位置\n",
    "        return key % self.buckets\n",
    "    \n",
    "    def pos(self, key):\n",
    "        # 取整获取key具体位置\n",
    "        return key // self.buckets\n",
    "    \n",
    "    def add(self, key):\n",
    "        hashkey = self.hash(key)\n",
    "        # 如果没有key\n",
    "        if not self.table[hashkey]:\n",
    "            self.table[hashkey] = [0] * self.itemsPerBucket\n",
    "        # 1表示有这个数据\n",
    "        self.table[hashkey][self.pos(key)] = 1\n",
    "        \n",
    "    def remove(self, key):\n",
    "        hashkey = self.hash(key)\n",
    "        if self.table[hashkey]:\n",
    "            # 0 表示没有这个数据\n",
    "            self.table[hashkey][self.pos(key)] = 0\n",
    "\n",
    "    def contains(self, key):\n",
    "        hashkey = self.hash(key)\n",
    "        return (self.table[hashkey] != []) and (self.table[hashkey][self.pos(key)] == 1)\n"
   ]
  },
  {
   "cell_type": "code",
   "execution_count": null,
   "metadata": {},
   "outputs": [],
   "source": [
    "class MyHashSet:\n",
    "\n",
    "    def __init__(self):\n",
    "        self.buckets = 1009\n",
    "        self.table = [[] for _ in range(self.buckets)]\n",
    "\n",
    "    def hash(self, key):\n",
    "        return key % self.buckets\n",
    "    \n",
    "    def add(self, key):\n",
    "        hashkey = self.hash(key)\n",
    "        # 已经有了\n",
    "        if key in self.table[hashkey]:\n",
    "            return\n",
    "        # 没有\n",
    "        self.table[hashkey].append(key)\n",
    "        \n",
    "    def remove(self, key):\n",
    "        hashkey = self.hash(key)\n",
    "        if key not in self.table[hashkey]:\n",
    "            return\n",
    "        self.table[hashkey].remove(key)\n",
    "\n",
    "    def contains(self, key):\n",
    "        hashkey = self.hash(key)\n",
    "        return key in self.table[hashkey]\n"
   ]
  }
 ],
 "metadata": {
  "language_info": {
   "name": "python"
  },
  "orig_nbformat": 4
 },
 "nbformat": 4,
 "nbformat_minor": 2
}
